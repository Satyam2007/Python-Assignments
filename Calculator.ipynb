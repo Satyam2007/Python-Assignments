{
 "cells": [
  {
   "cell_type": "code",
   "execution_count": null,
   "metadata": {},
   "outputs": [
    {
     "name": "stdout",
     "output_type": "stream",
     "text": [
      "Select a choice:\n",
      "1.Addition\n",
      "2.Subtraction\n",
      "3.Multiplication\n",
      "4.Division\n",
      "Enter the choice from (1/2/3/4):1\n",
      "Enter first number:20\n",
      "Enter second number:10\n",
      "20.0 + 10.0 = 30.0\n",
      "Enter the choice from (1/2/3/4):2\n",
      "Enter first number:50\n",
      "Enter second number:20\n",
      "50.0 - 20.0 = 30.0\n",
      "Enter the choice from (1/2/3/4):3\n",
      "Enter first number:10\n",
      "Enter second number:20\n",
      "10.0 * 20.0 = 200.0\n",
      "Enter the choice from (1/2/3/4):4\n",
      "Enter first number:1000\n",
      "Enter second number:50\n",
      "1000.0 / 50.0 = 20.0\n"
     ]
    }
   ],
   "source": [
    "#This python code results in the foramtion of a calculator\n",
    "\n",
    "#defining addition\n",
    "def add(x,y):\n",
    "    return x+y\n",
    "\n",
    "#defining subtraction\n",
    "def subtract(x,y):\n",
    "    return x-y\n",
    "\n",
    "#defining multiplication:\n",
    "def mult(x,y):\n",
    "    return x*y\n",
    "\n",
    "#defining division\n",
    "def divide(x,y):\n",
    "    return x/y\n",
    "\n",
    "#Asking user to provide python with a choice\n",
    "print(\"Select a choice:\")\n",
    "print(\"1.Addition\")\n",
    "print(\"2.Subtraction\")\n",
    "print(\"3.Multiplication\")\n",
    "print(\"4.Division\")\n",
    "\n",
    "#considering everything to be true, starting a while loop\n",
    "while True:\n",
    "    #asking user for the choice\n",
    "    choice = input(\"Enter the choice from (1/2/3/4):\")\n",
    "\n",
    "    #Seeing if the user chooses among the provided option\n",
    "    if choice in (\"1\",\"2\",\"3\",\"4\"):\n",
    "        #asking user to enter two numbers\n",
    "        a = float(input(\"Enter first number:\"))\n",
    "        b = float(input(\"Enter second number:\"))\n",
    "\n",
    "        #Calling out the functions based on choice\n",
    "        if(choice=='1'):\n",
    "            print(a,\"+\",b,\"=\",add(a,b))\n",
    "            #break\n",
    "        elif(choice=='2'):\n",
    "            print(a,\"-\",b,\"=\",subtract(a,b))\n",
    "            #break\n",
    "        elif(choice=='3'):\n",
    "            print(a,\"*\",b,\"=\",mult(a,b))\n",
    "            #break\n",
    "        else:\n",
    "            print(a,\"/\",b,\"=\",divide(a,b))"
   ]
  },
  {
   "cell_type": "code",
   "execution_count": null,
   "metadata": {},
   "outputs": [],
   "source": []
  }
 ],
 "metadata": {
  "kernelspec": {
   "display_name": "Python 3",
   "language": "python",
   "name": "python3"
  },
  "language_info": {
   "codemirror_mode": {
    "name": "ipython",
    "version": 3
   },
   "file_extension": ".py",
   "mimetype": "text/x-python",
   "name": "python",
   "nbconvert_exporter": "python",
   "pygments_lexer": "ipython3",
   "version": "3.7.3"
  }
 },
 "nbformat": 4,
 "nbformat_minor": 2
}
